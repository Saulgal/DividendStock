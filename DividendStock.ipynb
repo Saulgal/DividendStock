{
 "cells": [
  {
   "cell_type": "markdown",
   "metadata": {},
   "source": [
    "<h3>Import of necessary libraries and define functions</h3>"
   ]
  },
  {
   "cell_type": "code",
   "execution_count": 21,
   "metadata": {},
   "outputs": [
    {
     "name": "stdout",
     "output_type": "stream",
     "text": [
      "                  Open        High         Low       Close   Volume  \\\n",
      "Date                                                                  \n",
      "1995-01-12    2.436895    2.448738    2.380414    2.391346  3244400   \n",
      "1995-01-13    2.414121    2.425964    2.368571    2.414121  3499200   \n",
      "1995-01-16    2.448737    2.459669    2.436894    2.459669  4097200   \n",
      "1995-01-17    2.425963    2.436895    2.380414    2.425963  3227200   \n",
      "1995-01-18    2.380413    2.448737    2.368570    2.448737  4242400   \n",
      "...                ...         ...         ...         ...      ...   \n",
      "2023-09-14  122.809998  123.800003  122.650002  123.459999  2455800   \n",
      "2023-09-15  123.139999  124.150002  123.010002  124.120003  8515700   \n",
      "2023-09-18  124.000000  124.230003  123.099998  123.349998  1511900   \n",
      "2023-09-19  123.059998  123.080002  122.029999  122.360001  2658500   \n",
      "2023-09-20  122.699997  123.139999  122.580002  122.769997   917500   \n",
      "\n",
      "            Dividends  Stock Splits       Date  \n",
      "Date                                            \n",
      "1995-01-12        0.0           0.0 1995-01-12  \n",
      "1995-01-13        0.0           0.0 1995-01-13  \n",
      "1995-01-16        0.0           0.0 1995-01-16  \n",
      "1995-01-17        0.0           0.0 1995-01-17  \n",
      "1995-01-18        0.0           0.0 1995-01-18  \n",
      "...               ...           ...        ...  \n",
      "2023-09-14        0.0           0.0 2023-09-14  \n",
      "2023-09-15        0.0           0.0 2023-09-15  \n",
      "2023-09-18        0.0           0.0 2023-09-18  \n",
      "2023-09-19        0.0           0.0 2023-09-19  \n",
      "2023-09-20        0.0           0.0 2023-09-20  \n",
      "\n",
      "[7210 rows x 8 columns]\n"
     ]
    }
   ],
   "source": [
    "import yfinance as yf\n",
    "import pandas as pd\n",
    "\n",
    "def historical_adjusted_closing_prices(ticker):\n",
    "    # Create a Ticker object for the specified ticker symbol\n",
    "    stock = yf.Ticker(ticker)\n",
    "\n",
    "    # Fetch historical price data for the stock\n",
    "    historical_data = stock.history(period=\"max\")\n",
    "    historical_data['Date'] = pd.to_datetime(historical_data.index)\n",
    "\n",
    "    return historical_data\n",
    "\n",
    "\n",
    "# Example usage:\n",
    "ticker_data = historical_adjusted_closing_prices(\"RY.TO\")\n",
    "print(ticker_data)\n"
   ]
  },
  {
   "cell_type": "code",
   "execution_count": 13,
   "metadata": {},
   "outputs": [],
   "source": [
    "\n",
    "# Import the data from the \n",
    "ticker_list = pd.read_csv(\"TorontoStockExchange.txt\", delimiter=\"\\t\")\n",
    "ticker_list = ticker_list.dropna(subset=['Symbol'])\n",
    "\n",
    "# remove junior issues\n",
    "ticker_list = ticker_list[~ticker_list['Symbol'].str.endswith(':TSXV')]\n",
    "#adequate the field to pull data from yahoo finance\n",
    "ticker_list['Symbol'] = ticker_list['Symbol'].str.replace(':TSX', '.TO')\n"
   ]
  },
  {
   "cell_type": "code",
   "execution_count": 22,
   "metadata": {},
   "outputs": [
    {
     "name": "stdout",
     "output_type": "stream",
     "text": [
      "- ASTL.WT.TO: No data found, symbol may be delisted\n",
      "- BBU.UN.TO: No data found, symbol may be delisted\n",
      "- BEP.UN.TO: No data found, symbol may be delisted\n",
      "- BIP.UN.TO: No data found, symbol may be delisted\n",
      "- BPYP.PR.A.TO: No data found, symbol may be delisted\n",
      "- CEF.U.TO: No data found, symbol may be delisted\n",
      "- GIB.A.TO: No data found, symbol may be delisted\n",
      "- GRT.UN.TO: No data found, symbol may be delisted\n",
      "- HHRS.WT.TO: No data found, symbol may be delisted\n",
      "- INCR.TO: No data found, symbol may be delisted\n",
      "- LEV.WT.TO: No data found, symbol may be delisted\n",
      "- PHYS.U.TO: No data found, symbol may be delisted\n",
      "- PSLV.U.TO: No data found, symbol may be delisted\n",
      "- RCI.B.TO: No data found, symbol may be delisted\n",
      "- SPPP.U.TO: No data found, symbol may be delisted\n",
      "- TECK.B.TO: No data found, symbol may be delisted\n"
     ]
    }
   ],
   "source": [
    "# Initialize an empty DataFrame to store the data\n",
    "all_data = pd.DataFrame()\n",
    "# Iterate through each ticker and fetch data\n",
    "for ticker in ticker_list['Symbol']:\n",
    "    ticker_data = historical_adjusted_closing_prices(ticker)\n",
    "    if not ticker_data.empty:\n",
    "        # Rename the 'Close' column to the ticker symbol\n",
    "        ticker_data['ticker'] = ticker\n",
    "        # ticker_data['Date'] = pd.to_datetime(ticker_data.index)\n",
    "        # Append the data to the all_data DataFrame\n",
    "        all_data = pd.concat([all_data, ticker_data], axis=0)\n"
   ]
  }
 ],
 "metadata": {
  "kernelspec": {
   "display_name": "Python 3",
   "language": "python",
   "name": "python3"
  },
  "language_info": {
   "codemirror_mode": {
    "name": "ipython",
    "version": 3
   },
   "file_extension": ".py",
   "mimetype": "text/x-python",
   "name": "python",
   "nbconvert_exporter": "python",
   "pygments_lexer": "ipython3",
   "version": "3.10.6"
  },
  "orig_nbformat": 4
 },
 "nbformat": 4,
 "nbformat_minor": 2
}
